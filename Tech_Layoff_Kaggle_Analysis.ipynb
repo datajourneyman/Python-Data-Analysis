{
 "cells": [
  {
   "cell_type": "markdown",
   "metadata": {},
   "source": [
    "<font size=\"5\">**Tech Layoff Data Analysis**\n",
    "\n",
    "<font size=\"2\" font = 'Arial'>From Amazon, Microsoft, Google to Wayfair, the technology industry is currently shaken by massive layoffs since mid-2022. This tabular dataset includes information on 450+ technology companies, including:\n",
    "<font size=\"3\" font = 'Arial'>\n",
    "    1. Office locations affected by layoffs\n",
    "    2. Current IPO status\n",
    "    3. Reported layoff date\n",
    "    4. % of the workforce impacted within each company, etc.\n",
    "<font size=\"4\" font = 'Arial'>**Key Tasks**\n",
    "<font size=\"3\" font = 'Arial'>\n",
    "    1. Visualize current layoffs trends based on months\n",
    "    2. Identify which locations are most impacted\n",
    "    3. Whether IPO status affects severity of layoffs\n",
    "    4. Industry with the most layoffs\n",
    "    5. Company with the most layoffs\n",
    "    6. Categorize industries based on keywords like 'data', 'health', 'finance' and find the total layoffs of each industry sector"
   ]
  },
  {
   "cell_type": "markdown",
   "metadata": {},
   "source": [
    "**Import essential libraries**"
   ]
  },
  {
   "cell_type": "code",
   "execution_count": 347,
   "metadata": {},
   "outputs": [],
   "source": [
    "import pandas as pd\n",
    "import numpy as np\n",
    "import matplotlib.pyplot as plt\n",
    "import seaborn as sns"
   ]
  },
  {
   "cell_type": "markdown",
   "metadata": {},
   "source": [
    "**Import data & perform data cleaning**"
   ]
  },
  {
   "cell_type": "code",
   "execution_count": 348,
   "metadata": {},
   "outputs": [
    {
     "data": {
      "text/html": [
       "<div>\n",
       "<style scoped>\n",
       "    .dataframe tbody tr th:only-of-type {\n",
       "        vertical-align: middle;\n",
       "    }\n",
       "\n",
       "    .dataframe tbody tr th {\n",
       "        vertical-align: top;\n",
       "    }\n",
       "\n",
       "    .dataframe thead th {\n",
       "        text-align: right;\n",
       "    }\n",
       "</style>\n",
       "<table border=\"1\" class=\"dataframe\">\n",
       "  <thead>\n",
       "    <tr style=\"text-align: right;\">\n",
       "      <th></th>\n",
       "      <th>company</th>\n",
       "      <th>total_layoffs</th>\n",
       "      <th>impacted_workforce_percentage</th>\n",
       "      <th>reported_date</th>\n",
       "      <th>industry</th>\n",
       "      <th>headquarter_location</th>\n",
       "      <th>sources</th>\n",
       "      <th>status</th>\n",
       "      <th>additional_notes</th>\n",
       "    </tr>\n",
       "  </thead>\n",
       "  <tbody>\n",
       "    <tr>\n",
       "      <th>0</th>\n",
       "      <td>C2FO</td>\n",
       "      <td>20</td>\n",
       "      <td>2</td>\n",
       "      <td>12/9/2022</td>\n",
       "      <td>Fintech, payments</td>\n",
       "      <td>Leawood, KS</td>\n",
       "      <td>Kansas City Business Journal</td>\n",
       "      <td>Private</td>\n",
       "      <td>NaN</td>\n",
       "    </tr>\n",
       "    <tr>\n",
       "      <th>1</th>\n",
       "      <td>VideoAmp</td>\n",
       "      <td>Unclear</td>\n",
       "      <td>2</td>\n",
       "      <td>9/19/2022</td>\n",
       "      <td>Advertising platforms</td>\n",
       "      <td>Los Angeles</td>\n",
       "      <td>Company memo</td>\n",
       "      <td>Private</td>\n",
       "      <td>NaN</td>\n",
       "    </tr>\n",
       "    <tr>\n",
       "      <th>2</th>\n",
       "      <td>Amperity</td>\n",
       "      <td>13</td>\n",
       "      <td>3</td>\n",
       "      <td>8/20/2022</td>\n",
       "      <td>Saas, analytics</td>\n",
       "      <td>Seattle</td>\n",
       "      <td>Geekwire</td>\n",
       "      <td>Private</td>\n",
       "      <td>NaN</td>\n",
       "    </tr>\n",
       "    <tr>\n",
       "      <th>3</th>\n",
       "      <td>Addepar</td>\n",
       "      <td>20</td>\n",
       "      <td>3</td>\n",
       "      <td>1/18/2023</td>\n",
       "      <td>fintech, data analytics</td>\n",
       "      <td>Mountain View, CA</td>\n",
       "      <td>Fortune</td>\n",
       "      <td>Private</td>\n",
       "      <td>NaN</td>\n",
       "    </tr>\n",
       "    <tr>\n",
       "      <th>4</th>\n",
       "      <td>Thirty Madison</td>\n",
       "      <td>24</td>\n",
       "      <td>3</td>\n",
       "      <td>5/13/2022</td>\n",
       "      <td>Health Care</td>\n",
       "      <td>New York</td>\n",
       "      <td>Axios</td>\n",
       "      <td>Private</td>\n",
       "      <td>Per Axios, 22 of the employees laid off were f...</td>\n",
       "    </tr>\n",
       "    <tr>\n",
       "      <th>5</th>\n",
       "      <td>NextRoll</td>\n",
       "      <td>Unclear</td>\n",
       "      <td>3</td>\n",
       "      <td>7/8/2022</td>\n",
       "      <td>Marketing Tech</td>\n",
       "      <td>San Francisco</td>\n",
       "      <td>Business Insider</td>\n",
       "      <td>Private</td>\n",
       "      <td>NaN</td>\n",
       "    </tr>\n",
       "    <tr>\n",
       "      <th>6</th>\n",
       "      <td>Armis Security</td>\n",
       "      <td>25</td>\n",
       "      <td>4</td>\n",
       "      <td>12/8/2022</td>\n",
       "      <td>Cybersecurity</td>\n",
       "      <td>San Francisco</td>\n",
       "      <td>Calcalistech</td>\n",
       "      <td>Private</td>\n",
       "      <td>NaN</td>\n",
       "    </tr>\n",
       "    <tr>\n",
       "      <th>7</th>\n",
       "      <td>Foxtrot</td>\n",
       "      <td>26</td>\n",
       "      <td>4</td>\n",
       "      <td>9/23/2022</td>\n",
       "      <td>food and beverage, e-commerce</td>\n",
       "      <td>Chicago</td>\n",
       "      <td>Chicago Business</td>\n",
       "      <td>Private</td>\n",
       "      <td>NaN</td>\n",
       "    </tr>\n",
       "    <tr>\n",
       "      <th>8</th>\n",
       "      <td>Headspace Health</td>\n",
       "      <td>50</td>\n",
       "      <td>4</td>\n",
       "      <td>12/14/2022</td>\n",
       "      <td>telehealth, wellness</td>\n",
       "      <td>Los Angeles</td>\n",
       "      <td>Bloomberg</td>\n",
       "      <td>Private</td>\n",
       "      <td>NaN</td>\n",
       "    </tr>\n",
       "    <tr>\n",
       "      <th>9</th>\n",
       "      <td>RealSelf</td>\n",
       "      <td>11</td>\n",
       "      <td>5</td>\n",
       "      <td>7/21/2022</td>\n",
       "      <td>Beauty tech</td>\n",
       "      <td>Seattle</td>\n",
       "      <td>GeekWire</td>\n",
       "      <td>Private</td>\n",
       "      <td>NaN</td>\n",
       "    </tr>\n",
       "  </tbody>\n",
       "</table>\n",
       "</div>"
      ],
      "text/plain": [
       "            company total_layoffs impacted_workforce_percentage reported_date  \\\n",
       "0              C2FO            20                             2     12/9/2022   \n",
       "1          VideoAmp       Unclear                             2     9/19/2022   \n",
       "2          Amperity            13                             3     8/20/2022   \n",
       "3           Addepar            20                             3     1/18/2023   \n",
       "4    Thirty Madison            24                             3     5/13/2022   \n",
       "5          NextRoll       Unclear                             3      7/8/2022   \n",
       "6    Armis Security            25                             4     12/8/2022   \n",
       "7           Foxtrot            26                             4     9/23/2022   \n",
       "8  Headspace Health            50                             4    12/14/2022   \n",
       "9          RealSelf            11                             5     7/21/2022   \n",
       "\n",
       "                        industry headquarter_location  \\\n",
       "0              Fintech, payments          Leawood, KS   \n",
       "1          Advertising platforms          Los Angeles   \n",
       "2                Saas, analytics              Seattle   \n",
       "3        fintech, data analytics    Mountain View, CA   \n",
       "4                    Health Care             New York   \n",
       "5                 Marketing Tech        San Francisco   \n",
       "6                  Cybersecurity        San Francisco   \n",
       "7  food and beverage, e-commerce              Chicago   \n",
       "8           telehealth, wellness          Los Angeles   \n",
       "9                    Beauty tech              Seattle   \n",
       "\n",
       "                        sources   status  \\\n",
       "0  Kansas City Business Journal  Private   \n",
       "1                  Company memo  Private   \n",
       "2                      Geekwire  Private   \n",
       "3                       Fortune  Private   \n",
       "4                         Axios  Private   \n",
       "5              Business Insider  Private   \n",
       "6                  Calcalistech  Private   \n",
       "7              Chicago Business  Private   \n",
       "8                     Bloomberg  Private   \n",
       "9                      GeekWire  Private   \n",
       "\n",
       "                                    additional_notes  \n",
       "0                                                NaN  \n",
       "1                                                NaN  \n",
       "2                                                NaN  \n",
       "3                                                NaN  \n",
       "4  Per Axios, 22 of the employees laid off were f...  \n",
       "5                                                NaN  \n",
       "6                                                NaN  \n",
       "7                                                NaN  \n",
       "8                                                NaN  \n",
       "9                                                NaN  "
      ]
     },
     "execution_count": 348,
     "metadata": {},
     "output_type": "execute_result"
    }
   ],
   "source": [
    "layoff = pd.read_csv('tech_layoffs.csv')\n",
    "layoff.head(10)"
   ]
  },
  {
   "cell_type": "markdown",
   "metadata": {},
   "source": [
    "<font size = 5>**Data clearning**\n",
    "\n",
    "<font size = 5>**Cleaning the Nulls Prt 1** \n",
    "\n",
    "<font size = 2>Clean total_layoffs column as it contains \"Unclear\" as input for null values"
   ]
  },
  {
   "cell_type": "code",
   "execution_count": 349,
   "metadata": {},
   "outputs": [
    {
     "data": {
      "text/plain": [
       "Unclear    0.372188\n",
       "100        0.034765\n",
       "30         0.024540\n",
       "40         0.022495\n",
       "150        0.016360\n",
       "120        0.014315\n",
       "20         0.014315\n",
       "50         0.014315\n",
       "90         0.012270\n",
       "60         0.012270\n",
       "25         0.012270\n",
       "80         0.012270\n",
       "200        0.010225\n",
       "70         0.010225\n",
       "32         0.010225\n",
       "140        0.010225\n",
       "24         0.008180\n",
       "400        0.008180\n",
       "300        0.008180\n",
       "250        0.006135\n",
       "43         0.006135\n",
       "170        0.006135\n",
       "85         0.006135\n",
       "59         0.006135\n",
       "450        0.006135\n",
       "104        0.006135\n",
       "76         0.006135\n",
       "180        0.006135\n",
       "1000       0.006135\n",
       "13         0.006135\n",
       "750        0.006135\n",
       "16         0.006135\n",
       "23         0.006135\n",
       "44         0.004090\n",
       "72         0.004090\n",
       "27         0.004090\n",
       "55         0.004090\n",
       "75         0.004090\n",
       "350        0.004090\n",
       "95         0.004090\n",
       "54         0.004090\n",
       "45         0.004090\n",
       "800        0.004090\n",
       "57         0.004090\n",
       "33         0.004090\n",
       "58         0.004090\n",
       "220        0.004090\n",
       "56         0.004090\n",
       "63         0.004090\n",
       "35         0.004090\n",
       "78         0.004090\n",
       "110        0.004090\n",
       "12         0.004090\n",
       "84         0.004090\n",
       "156        0.004090\n",
       "130        0.004090\n",
       "155        0.002045\n",
       "11000      0.002045\n",
       "225        0.002045\n",
       "99         0.002045\n",
       "500        0.002045\n",
       "509        0.002045\n",
       "760        0.002045\n",
       "26         0.002045\n",
       "124        0.002045\n",
       "840        0.002045\n",
       "550        0.002045\n",
       "588        0.002045\n",
       "11         0.002045\n",
       "4100       0.002045\n",
       "18000      0.002045\n",
       "270        0.002045\n",
       "700        0.002045\n",
       "38         0.002045\n",
       "97         0.002045\n",
       "82         0.002045\n",
       "1250       0.002045\n",
       "1280       0.002045\n",
       "1332       0.002045\n",
       "73         0.002045\n",
       "870        0.002045\n",
       "825        0.002045\n",
       "69         0.002045\n",
       "558        0.002045\n",
       "480        0.002045\n",
       "451        0.002045\n",
       "4084       0.002045\n",
       "240        0.002045\n",
       "153        0.002045\n",
       "12000      0.002045\n",
       "10000      0.002045\n",
       "4000       0.002045\n",
       "3740       0.002045\n",
       "2110       0.002045\n",
       "467        0.002045\n",
       "115        0.002045\n",
       "647        0.002045\n",
       "1013       0.002045\n",
       "46         0.002045\n",
       "83         0.002045\n",
       "138        0.002045\n",
       "15         0.002045\n",
       "224        0.002045\n",
       "370        0.002045\n",
       "169        0.002045\n",
       "378        0.002045\n",
       "950        0.002045\n",
       "74         0.002045\n",
       "37         0.002045\n",
       "68         0.002045\n",
       "67         0.002045\n",
       "640        0.002045\n",
       "260        0.002045\n",
       "254        0.002045\n",
       "142        0.002045\n",
       "162        0.002045\n",
       "21         0.002045\n",
       "65         0.002045\n",
       "123        0.002045\n",
       "5          0.002045\n",
       "47         0.002045\n",
       "136        0.002045\n",
       "94         0.002045\n",
       "125        0.002045\n",
       "7          0.002045\n",
       "1100       0.002045\n",
       "173        0.002045\n",
       "310        0.002045\n",
       "1095       0.002045\n",
       "2300       0.002045\n",
       "226        0.002045\n",
       "10         0.002045\n",
       "19         0.002045\n",
       "175        0.002045\n",
       "167        0.002045\n",
       "163        0.002045\n",
       "149        0.002045\n",
       "113        0.002045\n",
       "109        0.002045\n",
       "158        0.002045\n",
       "1050       0.002045\n",
       "14         0.002045\n",
       "101        0.002045\n",
       "237        0.002045\n",
       "88         0.002045\n",
       "111        0.002045\n",
       "5000       0.002045\n",
       "64         0.002045\n",
       "262        0.002045\n",
       "9090       0.002045\n",
       "Name: total_layoffs, dtype: float64"
      ]
     },
     "execution_count": 349,
     "metadata": {},
     "output_type": "execute_result"
    }
   ],
   "source": [
    "#More than 37% of the data total_layoffs is null, indicated by the % of value 'Unclear'\n",
    "#Dropping nulls would lead to significant loss of data\n",
    "layoff.total_layoffs.value_counts()/len(layoff.total_layoffs)"
   ]
  },
  {
   "cell_type": "code",
   "execution_count": 350,
   "metadata": {},
   "outputs": [
    {
     "name": "stderr",
     "output_type": "stream",
     "text": [
      "<ipython-input-350-48aaabdaae29>:3: SettingWithCopyWarning: \n",
      "A value is trying to be set on a copy of a slice from a DataFrame.\n",
      "Try using .loc[row_indexer,col_indexer] = value instead\n",
      "\n",
      "See the caveats in the documentation: https://pandas.pydata.org/pandas-docs/stable/user_guide/indexing.html#returning-a-view-versus-a-copy\n",
      "  total_layoff_no_unclear['total_layoffs'] = total_layoff_no_unclear['total_layoffs'].astype(float)\n"
     ]
    },
    {
     "data": {
      "text/plain": [
       "count      307.000000\n",
       "mean       450.019544\n",
       "std       1652.123678\n",
       "min          5.000000\n",
       "25%         44.000000\n",
       "50%         95.000000\n",
       "75%        200.000000\n",
       "max      18000.000000\n",
       "Name: total_layoffs, dtype: float64"
      ]
     },
     "execution_count": 350,
     "metadata": {},
     "output_type": "execute_result"
    }
   ],
   "source": [
    "#Visualize distribution of total_layoffs to determine whether missing values should be replaced by mean or median\n",
    "total_layoff_no_unclear = layoff[layoff['total_layoffs'] != 'Unclear']\n",
    "total_layoff_no_unclear['total_layoffs'] = total_layoff_no_unclear['total_layoffs'].astype(float)\n",
    "total_layoff_no_unclear['total_layoffs'].describe()"
   ]
  },
  {
   "cell_type": "code",
   "execution_count": 351,
   "metadata": {},
   "outputs": [
    {
     "name": "stderr",
     "output_type": "stream",
     "text": [
      "/opt/anaconda3/lib/python3.8/site-packages/pandas/core/arraylike.py:397: RuntimeWarning: invalid value encountered in log10\n",
      "  result = getattr(ufunc, method)(*inputs, **kwargs)\n"
     ]
    },
    {
     "data": {
      "image/png": "[encoded data removed]",
      "text/plain": [
       "<Figure size 432x288 with 1 Axes>"
      ]
     },
     "metadata": {},
     "output_type": "display_data"
    }
   ],
   "source": [
    "fig, ax = plt.subplots()\n",
    "ax.hist(total_layoff_no_unclear['total_layoffs'], bins=np.logspace(np.log10(min(total_layoff_no_unclear['total_layoffs'])), np.log10(max(total_layoff_no_unclear['total_layoffs'])), 50), alpha=0.5,label='Total Layoffs')\n",
    "ax.set_xscale('Log')\n",
    "ax.set_xlabel('Total layoffs')\n",
    "ax.set_ylabel('Count')\n",
    "ax.set_title('Distribution of Total Layoffs')\n",
    "\n",
    "# Generate random data with mean and standard deviation matching the given information\n",
    "data = np.random.normal(450, 1652, 307)\n",
    "\n",
    "# Plot histogram\n",
    "sns.histplot(data, bins=20, kde=False, color='skyblue', edgecolor='white', label='Normal Distribution')\n",
    "\n",
    "# Calculate normal distribution parameters based on the data\n",
    "mu, std = data.mean(), data.std()\n",
    "\n",
    "# Create range of x-axis values for the plot\n",
    "x = np.linspace(data.min(), data.max(), 1000)\n",
    "\n",
    "# Calculate normal distribution values for the x-axis range\n",
    "y = 1/(std * np.sqrt(2 * np.pi)) * np.exp(-(x - mu)**2 / (2 * std**2))\n",
    "\n",
    "\n",
    "# Set axis labels and title\n",
    "plt.xlabel('Total layoffs')\n",
    "plt.ylabel('Frequency')\n",
    "plt.title('Distribution of total layoffs')\n",
    "plt.legend()\n",
    "plt.show(block = True)"
   ]
  },
  {
   "cell_type": "markdown",
   "metadata": {},
   "source": [
    "If the normal distribution histogram is on the right side of the chart and the original data distribution of total-layoffs is on the left side of the chart, it suggests that the distribution of the data is skewed to the right. \n",
    "\n",
    "This means that there are more data points with lower values and fewer data points with higher values, which causes the mean of the data to be greater than the median. It's worth noting that the shape of the normal distribution curve is symmetrical, so if the data were normally distributed, the histogram and the normal distribution curve would be centered around the same point. The fact that they are shifted to different sides suggests that the data is not normally distributed.\n",
    "\n",
    "**Next step**\n",
    "\n",
    "Impute missing values with the median: This is a robust strategy that is not sensitive to outliers.\n"
   ]
  },
  {
   "cell_type": "code",
   "execution_count": 352,
   "metadata": {},
   "outputs": [],
   "source": [
    "# Calculate median of the column\n",
    "median = total_layoff_no_unclear['total_layoffs'].median()\n",
    "\n",
    "# Replace 'Unclear' with NaN\n",
    "layoff['total_layoffs'] = layoff['total_layoffs'].replace('Unclear', np.nan)\n",
    "\n",
    "# Replace NaN values with median\n",
    "layoff['total_layoffs'] = layoff['total_layoffs'].fillna(median)\n",
    "\n",
    "# Change datatype to float\n",
    "layoff['total_layoffs'] = layoff['total_layoffs'].astype('float')"
   ]
  },
  {
   "cell_type": "code",
   "execution_count": 353,
   "metadata": {},
   "outputs": [
    {
     "name": "stdout",
     "output_type": "stream",
     "text": [
      "<class 'pandas.core.frame.DataFrame'>\n",
      "RangeIndex: 489 entries, 0 to 488\n",
      "Data columns (total 9 columns):\n",
      " #   Column                         Non-Null Count  Dtype  \n",
      "---  ------                         --------------  -----  \n",
      " 0   company                        489 non-null    object \n",
      " 1   total_layoffs                  489 non-null    float64\n",
      " 2   impacted_workforce_percentage  489 non-null    object \n",
      " 3   reported_date                  489 non-null    object \n",
      " 4   industry                       489 non-null    object \n",
      " 5   headquarter_location           489 non-null    object \n",
      " 6   sources                        489 non-null    object \n",
      " 7   status                         489 non-null    object \n",
      " 8   additional_notes               22 non-null     object \n",
      "dtypes: float64(1), object(8)\n",
      "memory usage: 34.5+ KB\n"
     ]
    }
   ],
   "source": [
    "layoff.info()"
   ]
  },
  {
   "cell_type": "markdown",
   "metadata": {},
   "source": [
    "<font size = 5>**Cleaning the Nulls Prt 2**\n",
    "\n",
    "<font size = 2>Perform the same cleaning for column 'impacted_workforce_percentage' as it contains 'Unclear' as well.\n",
    "More than 27% of the data is null, dropping null values would lead to great loss in data."
   ]
  },
  {
   "cell_type": "code",
   "execution_count": 354,
   "metadata": {},
   "outputs": [
    {
     "data": {
      "text/plain": [
       "Unclear    0.271984\n",
       "10         0.065440\n",
       "20         0.059305\n",
       "15         0.055215\n",
       "100        0.053170\n",
       "5          0.040900\n",
       "25         0.034765\n",
       "7          0.030675\n",
       "33         0.026585\n",
       "6          0.024540\n",
       "8          0.024540\n",
       "13         0.022495\n",
       "30         0.020450\n",
       "12         0.020450\n",
       "11         0.020450\n",
       "14         0.018405\n",
       "9          0.018405\n",
       "17         0.016360\n",
       "3          0.016360\n",
       "18         0.014315\n",
       "19         0.014315\n",
       "50         0.012270\n",
       "21         0.010225\n",
       "23         0.008180\n",
       "4          0.008180\n",
       "40         0.008180\n",
       "35         0.008180\n",
       "2          0.006135\n",
       "27         0.006135\n",
       "16         0.006135\n",
       "24         0.006135\n",
       "32         0.004090\n",
       "46         0.004090\n",
       "1          0.004090\n",
       "22         0.004090\n",
       "75         0.004090\n",
       "37         0.004090\n",
       "48         0.002045\n",
       "42         0.002045\n",
       "60         0.002045\n",
       "34         0.002045\n",
       "76         0.002045\n",
       "26         0.002045\n",
       "29         0.002045\n",
       "28         0.002045\n",
       "39         0.002045\n",
       "43         0.002045\n",
       "54         0.002045\n",
       "70         0.002045\n",
       "74         0.002045\n",
       "Name: impacted_workforce_percentage, dtype: float64"
      ]
     },
     "execution_count": 354,
     "metadata": {},
     "output_type": "execute_result"
    }
   ],
   "source": [
    "layoff['impacted_workforce_percentage'].value_counts()/len(layoff['impacted_workforce_percentage'])"
   ]
  },
  {
   "cell_type": "code",
   "execution_count": 355,
   "metadata": {},
   "outputs": [],
   "source": [
    "#remove the 'Unclear' and visualize distribution\n",
    "impacted_workforce_percentage_dropnulls = layoff[layoff['impacted_workforce_percentage'] != 'Unclear']['impacted_workforce_percentage'].astype(float)"
   ]
  },
  {
   "cell_type": "code",
   "execution_count": 356,
   "metadata": {},
   "outputs": [
    {
     "data": {
      "text/plain": [
       "count    356.000000\n",
       "mean      23.876404\n",
       "std       24.809390\n",
       "min        1.000000\n",
       "25%       10.000000\n",
       "50%       15.000000\n",
       "75%       25.000000\n",
       "max      100.000000\n",
       "Name: impacted_workforce_percentage, dtype: float64"
      ]
     },
     "execution_count": 356,
     "metadata": {},
     "output_type": "execute_result"
    }
   ],
   "source": [
    "impacted_workforce_percentage_dropnulls.describe()"
   ]
  },
  {
   "cell_type": "code",
   "execution_count": 357,
   "metadata": {},
   "outputs": [
    {
     "name": "stderr",
     "output_type": "stream",
     "text": [
      "/opt/anaconda3/lib/python3.8/site-packages/pandas/core/arraylike.py:397: RuntimeWarning: invalid value encountered in log10\n",
      "  result = getattr(ufunc, method)(*inputs, **kwargs)\n"
     ]
    },
    {
     "data": {
      "image/png": "[encoded data removed]",
      "text/plain": [
       "<Figure size 432x288 with 1 Axes>"
      ]
     },
     "metadata": {},
     "output_type": "display_data"
    }
   ],
   "source": [
    "fig, ax = plt.subplots()\n",
    "ax.hist(impacted_workforce_percentage_dropnulls, bins=np.logspace(np.log10(min(impacted_workforce_percentage_dropnulls)), np.log10(max(impacted_workforce_percentage_dropnulls)), 50), alpha=0.5,label='impacted_workforce_percentage')\n",
    "ax.set_xscale('Log')\n",
    "ax.set_xlabel('impacted_workforce_percentage')\n",
    "ax.set_ylabel('Count')\n",
    "ax.set_title('Distribution of impacted_workforce_percentage')\n",
    "\n",
    "# Generate random data with mean and standard deviation matching the given information\n",
    "data = np.random.normal(450, 1652, 307)\n",
    "\n",
    "# Plot histogram\n",
    "sns.histplot(data, bins=20, kde=False, color='skyblue', edgecolor='white', label='Normal Distribution')\n",
    "\n",
    "# Calculate normal distribution parameters based on the data\n",
    "mu, std = data.mean(), data.std()\n",
    "\n",
    "# Create range of x-axis values for the plot\n",
    "x = np.linspace(data.min(), data.max(), 1000)\n",
    "\n",
    "# Calculate normal distribution values for the x-axis range\n",
    "y = 1/(std * np.sqrt(2 * np.pi)) * np.exp(-(x - mu)**2 / (2 * std**2))\n",
    "\n",
    "\n",
    "# Set axis labels and title\n",
    "plt.xlabel('impacted_workforce_percentage')\n",
    "plt.ylabel('Frequency')\n",
    "plt.title('Distribution of impacted_workforce_percentage')\n",
    "plt.legend()\n",
    "plt.show(block = True)"
   ]
  },
  {
   "cell_type": "markdown",
   "metadata": {},
   "source": [
    "**Next step**\n",
    "\n",
    "The data is not normally distributed, imputing missing values with the median: This is a robust strategy that is not sensitive to outliers."
   ]
  },
  {
   "cell_type": "code",
   "execution_count": 358,
   "metadata": {},
   "outputs": [],
   "source": [
    "# Calculate median of the column\n",
    "median = impacted_workforce_percentage_dropnulls.median()\n",
    "\n",
    "# Replace 'Unclear' with NaN\n",
    "layoff['impacted_workforce_percentage'] = layoff['impacted_workforce_percentage'].replace('Unclear', np.nan)\n",
    "\n",
    "# Replace NaN values with median\n",
    "layoff['impacted_workforce_percentage'] = layoff['impacted_workforce_percentage'].fillna(median)\n",
    "\n",
    "# Change datatype to float\n",
    "layoff['impacted_workforce_percentage'] = layoff['impacted_workforce_percentage'].astype('float')"
   ]
  },
  {
   "cell_type": "markdown",
   "metadata": {},
   "source": [
    "**Transform other columns to reasonable datatypes**"
   ]
  },
  {
   "cell_type": "code",
   "execution_count": 359,
   "metadata": {},
   "outputs": [],
   "source": [
    "#Change datatype of reported_date from object to dataframe\n",
    "layoff['reported_date'] = pd.to_datetime(layoff['reported_date'])\n",
    "\n",
    "#Change datatype of multiple columns' datatype from object to categorical for better visualization\n",
    "layoff['industry'] = layoff['industry'].astype('category')\n",
    "layoff['headquarter_location'] = layoff['headquarter_location'].astype('category')\n",
    "layoff['sources'] = layoff['sources'].astype('category')\n",
    "layoff['company'] = layoff['company'].astype('category')\n",
    "layoff['status'] = layoff['status'].astype('category')\n",
    "\n",
    "#change notes column into string\n",
    "layoff['additional_notes'] = layoff['additional_notes'].astype('string')"
   ]
  },
  {
   "cell_type": "code",
   "execution_count": 360,
   "metadata": {},
   "outputs": [
    {
     "name": "stdout",
     "output_type": "stream",
     "text": [
      "<class 'pandas.core.frame.DataFrame'>\n",
      "RangeIndex: 489 entries, 0 to 488\n",
      "Data columns (total 9 columns):\n",
      " #   Column                         Non-Null Count  Dtype         \n",
      "---  ------                         --------------  -----         \n",
      " 0   company                        489 non-null    category      \n",
      " 1   total_layoffs                  489 non-null    float64       \n",
      " 2   impacted_workforce_percentage  489 non-null    float64       \n",
      " 3   reported_date                  489 non-null    datetime64[ns]\n",
      " 4   industry                       489 non-null    category      \n",
      " 5   headquarter_location           489 non-null    category      \n",
      " 6   sources                        489 non-null    category      \n",
      " 7   status                         489 non-null    category      \n",
      " 8   additional_notes               22 non-null     string        \n",
      "dtypes: category(5), datetime64[ns](1), float64(2), string(1)\n",
      "memory usage: 65.0 KB\n"
     ]
    }
   ],
   "source": [
    "layoff.info()"
   ]
  },
  {
   "cell_type": "markdown",
   "metadata": {},
   "source": [
    "<font size = 5>**Data Analysis**\n",
    "    \n",
    "<font size = 4>**Task 1: Visualize current layoffs trends based on months**"
   ]
  },
  {
   "cell_type": "code",
   "execution_count": 361,
   "metadata": {},
   "outputs": [
    {
     "data": {
      "text/plain": [
       "reported_date\n",
       "2022-01-31       70.0\n",
       "2022-02-28      168.0\n",
       "2022-03-31      535.0\n",
       "2022-04-30     6078.0\n",
       "2022-05-31     3308.0\n",
       "2022-06-30     5417.0\n",
       "2022-07-31     8725.0\n",
       "2022-08-31     9369.0\n",
       "2022-09-30     4713.0\n",
       "2022-10-31    11485.0\n",
       "2022-11-30    29867.0\n",
       "2022-12-31     6212.0\n",
       "2023-01-31    69499.0\n",
       "Freq: M, Name: total_layoffs, dtype: float64"
      ]
     },
     "execution_count": 361,
     "metadata": {},
     "output_type": "execute_result"
    }
   ],
   "source": [
    "layoff_by_month = layoff.groupby(pd.Grouper(key='reported_date', freq='M'))['total_layoffs'].sum()\n",
    "layoff_by_month"
   ]
  },
  {
   "cell_type": "code",
   "execution_count": 362,
   "metadata": {},
   "outputs": [
    {
     "data": {
      "image/png": "[encoded data removed]",
      "text/plain": [
       "<Figure size 432x288 with 1 Axes>"
      ]
     },
     "metadata": {},
     "output_type": "display_data"
    }
   ],
   "source": [
    "# Line chart\n",
    "plt.plot(layoff_by_month.index, layoff_by_month.values, c = 'red', label = 'Total Layoffs')\n",
    "plt.xlabel('Month', size = 15)\n",
    "plt.ylabel('Total layoffs', size = 15)\n",
    "plt.title('Layoff Trends Over Time', size = 15)\n",
    "\n",
    "#add a median line\n",
    "median_layoffs = np.median(layoff_by_month.values)\n",
    "plt.axhline(median_layoffs, c='blue', ls='--', label='Median')\n",
    "plt.legend()\n",
    "plt.show()"
   ]
  },
  {
   "cell_type": "markdown",
   "metadata": {},
   "source": [
    "Based on the reported data of total layoffs over time, it can be observed that there has been an overall upward trend in layoffs from March 2022 to October 2022, with some fluctuations. From October to December 2022, there was a sharp increase in total layoffs, followed by a significant drop in January 2023 to regular levels. \n",
    "\n",
    "However, starting from January 2023, there was a dramatic increase in layoffs, reaching a peak that was twice as high as the peak in November 2022 and 14 times higher than the median of total layoffs over time. It is important to note that the analysis assumes that the reported data is accurate and complete.\n",
    "\n",
    "It is worth noting that the layoff trend observed may be attributed to various factors such as economic downturns, company performance, and global events. For instance, the significant increase in layoffs from October to December 2022 could be due to the holiday season, while the sharp decline in January 2023 could be linked to the end of year-end contracts. The subsequent spike in layoffs from January 2023 may indicate a more systemic issue affecting the tech industry as a whole. It is essential to investigate further to identify the root causes of these changes and to inform policy and decision-making."
   ]
  },
  {
   "cell_type": "markdown",
   "metadata": {},
   "source": [
    "<font size = 4>**Task 2: Identify which locations are most impacted**"
   ]
  },
  {
   "cell_type": "code",
   "execution_count": 363,
   "metadata": {},
   "outputs": [],
   "source": [
    "# Clean the column by filling in missing state information for most of the rows\n",
    "# Extract city and state information from headquarter_location\n",
    "layoff['city'] = layoff['headquarter_location'].str.split(',').str[0].str.strip()\n",
    "layoff['state'] = layoff['headquarter_location'].str.split(',').str[-1].str.strip()\n",
    "\n",
    "# Find rows where state is missing\n",
    "layoff['missing_state'] = layoff['state'] == layoff['city']\n",
    "\n",
    "# Map missing states based on city\n",
    "state_map = {\n",
    "    'Los Angeles': 'CA',\n",
    "    'Seattle': 'WA',\n",
    "    'New York': 'NY',\n",
    "    'San Francisco': 'CA',\n",
    "    'Chicago': 'IL',\n",
    "    'Mountain View': 'CA',\n",
    "    'Pittsburgh': 'PA',\n",
    "    'Boston': 'MA',\n",
    "    'Miami': 'FL',\n",
    "    'San Diego': 'CA',\n",
    "    'Detroit': 'MI',\n",
    "    'Atlanta': 'GA',\n",
    "    'Austin': 'TX',\n",
    "    'Distributed': '',\n",
    "    'Boulder': 'CO',\n",
    "    'San Mateo': 'CA',\n",
    "    'San Franicsco': 'CA',\n",
    "    'Greater New York area': 'NY',\n",
    "    'Palo Alto': 'CA',\n",
    "    'Indianapolis': 'IN',\n",
    "    'Denver': 'CO',\n",
    "    'Minneapolis': 'MN',\n",
    "    'New York City': 'NY',\n",
    "    'Culver City': 'CA',\n",
    "    'Phoenix': 'AZ',\n",
    "    'San Jose': 'CA',\n",
    "    'Cincinnati': 'OH',\n",
    "    'Reno': 'NV',\n",
    "    'Portland': 'OR',\n",
    "    'Stamford': 'CT',\n",
    "    'Menlo Park': 'CA',\n",
    "    'Salt Lake City': 'UT',\n",
    "    'Dallas': 'TX',\n",
    "    'Jersey City': 'NJ',\n",
    "    'Columbus': 'OH',\n",
    "    'Philadelphia': 'PA',\n",
    "    'St. Louis': 'MO',\n",
    "    'Milwaukee': 'WI',\n",
    "    'Oakland': 'CA',\n",
    "    'Houston': 'TX',\n",
    "    'Long Beach': 'CA',\n",
    "    'Santa Monica': 'CA',\n",
    "    'Tempe': 'AZ',\n",
    "    'Los Gatos': 'CA',\n",
    "    'San Francsico': 'CA'\n",
    "}\n",
    "\n",
    "missing_state = layoff['missing_state']\n",
    "layoff.loc[missing_state, 'state'] = layoff.loc[missing_state, 'city'].map(state_map)\n"
   ]
  },
  {
   "cell_type": "code",
   "execution_count": 364,
   "metadata": {},
   "outputs": [
    {
     "data": {
      "text/plain": [
       "CA                236\n",
       "NY                 84\n",
       "WA                 25\n",
       "MA                 22\n",
       "IL                 12\n",
       "TX                 12\n",
       "CO                  7\n",
       "FL                  6\n",
       "GA                  6\n",
       "OH                  6\n",
       "UT                  6\n",
       "MI                  5\n",
       "California          4\n",
       "PA                  4\n",
       "AZ                  3\n",
       "DC                  3\n",
       "OR                  3\n",
       "MO                  3\n",
       "CT                  3\n",
       "Massachusetts       2\n",
       "DE                  2\n",
       "NE                  2\n",
       "NV                  2\n",
       "NJ                  2\n",
       "MN                  2\n",
       "NC                  2\n",
       "MD                  2\n",
       "WI                  1\n",
       "ND                  1\n",
       "VA                  1\n",
       "Virginia            1\n",
       "Sweden              1\n",
       "North Carolina      1\n",
       "KS                  1\n",
       "SC                  1\n",
       "TN                  1\n",
       "Utah                1\n",
       "New Jersey          1\n",
       "IN                  1\n",
       "VT                  1\n",
       "                    1\n",
       "Oregon              1\n",
       "India               1\n",
       "Canada              1\n",
       "Name: state, dtype: int64"
      ]
     },
     "execution_count": 364,
     "metadata": {},
     "output_type": "execute_result"
    }
   ],
   "source": [
    "layoff.state.value_counts()"
   ]
  },
  {
   "cell_type": "code",
   "execution_count": 365,
   "metadata": {},
   "outputs": [],
   "source": [
    "#fix all the states that are not shortname\n",
    "def shortname(state):\n",
    "    if state == 'California':\n",
    "        return 'CA'\n",
    "    elif state == 'Oregon':\n",
    "        return 'OR'\n",
    "    elif state == 'North Carolina':\n",
    "        return 'NC'\n",
    "    elif state == 'Utah':\n",
    "        return 'UT'\n",
    "    elif state == 'Virginia':\n",
    "        return 'VA'\n",
    "    elif state == 'New Jersey':\n",
    "        return 'NJ'\n",
    "    elif state == 'Massachusetts':\n",
    "        return 'MA'\n",
    "    else:\n",
    "        return state\n",
    "\n",
    "layoff['state'] = layoff['state'].apply(shortname)"
   ]
  },
  {
   "cell_type": "code",
   "execution_count": 366,
   "metadata": {},
   "outputs": [],
   "source": [
    "# Create new column combining city and state with \", \" in between if state is not null\n",
    "layoff['location'] = layoff['city']\n",
    "state_not_null = ~layoff['state'].isnull()\n",
    "layoff.loc[state_not_null, 'location'] += ', ' + layoff['state']\n",
    "\n",
    "# Drop the missing_state column\n",
    "layoff.drop('missing_state', axis=1, inplace=True)"
   ]
  },
  {
   "cell_type": "code",
   "execution_count": 367,
   "metadata": {},
   "outputs": [
    {
     "data": {
      "image/png": "[encoded data removed]",
      "text/plain": [
       "<Figure size 720x576 with 1 Axes>"
      ]
     },
     "metadata": {},
     "output_type": "display_data"
    }
   ],
   "source": [
    "# Group the data by state and count the number of layoffs in each location, show top 10 state\n",
    "location_counts = layoff.groupby('state').size().sort_values(ascending=False)[0:10]\n",
    "\n",
    "# Plot a vertical bar chart of the location counts\n",
    "plt.figure(figsize=(10,8))\n",
    "location_counts.plot(kind='bar', color='green')\n",
    "plt.xlabel('Number of layoffs')\n",
    "plt.ylabel('Location')\n",
    "plt.title('State with most layoffs', size = 15)\n",
    "plt.xticks(rotation=0)\n",
    "plt.show()"
   ]
  },
  {
   "cell_type": "markdown",
   "metadata": {},
   "source": [
    "<font size = 4>**Task 3: Whether IPO status affects severity of layoffs**"
   ]
  },
  {
   "cell_type": "code",
   "execution_count": 368,
   "metadata": {},
   "outputs": [],
   "source": [
    "# Group the data by IPO status and count the number of layoffs in each status\n",
    "total_layoffs_ipo = layoff.groupby('status')['total_layoffs'].sum()"
   ]
  },
  {
   "cell_type": "code",
   "execution_count": 369,
   "metadata": {},
   "outputs": [
    {
     "data": {
      "image/png": "[encoded data removed]",
      "text/plain": [
       "<Figure size 432x288 with 1 Axes>"
      ]
     },
     "metadata": {},
     "output_type": "display_data"
    }
   ],
   "source": [
    "# Create pie chart\n",
    "plt.pie(total_layoffs_ipo, labels=total_layoffs_ipo.index, autopct='%1.1f%%', startangle=90)\n",
    "\n",
    "# Add title\n",
    "plt.title('Percentage of Layoffs by Status')\n",
    "\n",
    "# Show plot\n",
    "plt.show()"
   ]
  },
  {
   "cell_type": "code",
   "execution_count": 370,
   "metadata": {},
   "outputs": [],
   "source": [
    "total_lay_pub = layoff.groupby('status')['total_layoffs'].sum()['Public']\n",
    "total_lay_pri = layoff.groupby('status')['total_layoffs'].sum()['Private']\n",
    "times = total_lay_pub/total_lay_pri"
   ]
  },
  {
   "cell_type": "code",
   "execution_count": 371,
   "metadata": {},
   "outputs": [
    {
     "name": "stdout",
     "output_type": "stream",
     "text": [
      "Total layoffs of public company is 107455.0, which is 69.1% of total layoffs and 2.24 more than total layoffs of private companies.\n"
     ]
    }
   ],
   "source": [
    "print(\"Total layoffs of public company is {}, which is 69.1% of total layoffs and {:.3} more than total layoffs of private companies.\".format(total_lay_pub,times))"
   ]
  },
  {
   "cell_type": "markdown",
   "metadata": {},
   "source": [
    "<font size = 4> **Task 4: Top 15 Industry with the most layoffs**"
   ]
  },
  {
   "cell_type": "code",
   "execution_count": 372,
   "metadata": {},
   "outputs": [],
   "source": [
    "total_lay_industry = layoff.groupby('industry').sum()['total_layoffs'].sort_values(ascending = False)[0:16]"
   ]
  },
  {
   "cell_type": "code",
   "execution_count": 373,
   "metadata": {},
   "outputs": [
    {
     "data": {
      "image/png": "[encoded data removed]",
      "text/plain": [
       "<Figure size 720x360 with 1 Axes>"
      ]
     },
     "metadata": {},
     "output_type": "display_data"
    }
   ],
   "source": [
    "# Plot a horizontal bar chart of the location counts\n",
    "plt.figure(figsize=(10,5))\n",
    "total_lay_industry.plot(kind='barh', color='purple')\n",
    "plt.xlabel('Number of layoffs')\n",
    "plt.ylabel('Industry')\n",
    "plt.title('Layoffs by Industry', size = 15)\n",
    "plt.xticks(rotation=0)\n",
    "plt.show()"
   ]
  },
  {
   "cell_type": "markdown",
   "metadata": {},
   "source": [
    "<font size = 4> **Task 5: Top 10 Company with the most layoffs**"
   ]
  },
  {
   "cell_type": "code",
   "execution_count": 374,
   "metadata": {},
   "outputs": [],
   "source": [
    "total_lay_company = layoff.groupby('company').sum()['total_layoffs'].sort_values(ascending = False)[0:11]"
   ]
  },
  {
   "cell_type": "code",
   "execution_count": 375,
   "metadata": {},
   "outputs": [
    {
     "data": {
      "text/plain": [
       "company\n",
       "Amazon        18000.0\n",
       "Alphabet      12000.0\n",
       "Meta          11000.0\n",
       "Microsoft     10000.0\n",
       "Salesforce     9090.0\n",
       "Better.com     5000.0\n",
       "Cisco          4100.0\n",
       "Peloton        4084.0\n",
       "Carvana        4000.0\n",
       "Twitter        3740.0\n",
       "Gopuff         2300.0\n",
       "Name: total_layoffs, dtype: float64"
      ]
     },
     "execution_count": 375,
     "metadata": {},
     "output_type": "execute_result"
    }
   ],
   "source": [
    "total_lay_company"
   ]
  },
  {
   "cell_type": "code",
   "execution_count": 376,
   "metadata": {
    "scrolled": true
   },
   "outputs": [
    {
     "data": {
      "image/png": "[encoded data removed]",
      "text/plain": [
       "<Figure size 720x360 with 1 Axes>"
      ]
     },
     "metadata": {},
     "output_type": "display_data"
    }
   ],
   "source": [
    "# Plot a vertical bar chart of the location counts\n",
    "plt.figure(figsize=(10,5))\n",
    "total_lay_company.plot(kind='bar', color='orange')\n",
    "plt.xlabel('Number of layoffs', size = 12)\n",
    "plt.ylabel('Company', size = 12)\n",
    "plt.title('Layoffs by Company', size = 15)\n",
    "plt.xticks(rotation=45)\n",
    "plt.show()"
   ]
  },
  {
   "cell_type": "markdown",
   "metadata": {},
   "source": [
    "<font size = 4> **Task 5: Layoffs for specific industries**"
   ]
  },
  {
   "cell_type": "code",
   "execution_count": 402,
   "metadata": {},
   "outputs": [],
   "source": [
    "#Create a function to find sectors that belong to the industry\n",
    "def find_data(industry_data, industry):\n",
    "    data_industry = []\n",
    "    for sector in industry_data:\n",
    "        if industry in sector and sector not in data_industry:\n",
    "            data_industry.append(sector)\n",
    "    return data_industry"
   ]
  },
  {
   "cell_type": "code",
   "execution_count": 458,
   "metadata": {},
   "outputs": [
    {
     "data": {
      "text/plain": [
       "['food and beverage, e-commerce',\n",
       " 'AgTech, food and beverage',\n",
       " 'food and beverage',\n",
       " 'food and beverage, restaurants']"
      ]
     },
     "execution_count": 458,
     "metadata": {},
     "output_type": "execute_result"
    }
   ],
   "source": [
    "#Example of using the function to find a list of industries associated with specific key words\n",
    "industry = 'food'\n",
    "data_industry = find_data(layoff.industry,industry)\n",
    "data_industry"
   ]
  },
  {
   "cell_type": "code",
   "execution_count": 459,
   "metadata": {},
   "outputs": [],
   "source": [
    "#find the total layoffs of a specific industry\n",
    "def data_industry_cnt(data, data_industry):\n",
    "    total_layoff = 0 \n",
    "    for industry in data.industry:\n",
    "        if industry in data_industry:\n",
    "            total_layoff+= data.total_layoffs\n",
    "    return total_layoff.sum()"
   ]
  },
  {
   "cell_type": "code",
   "execution_count": 455,
   "metadata": {},
   "outputs": [
    {
     "data": {
      "text/plain": [
       "1088122.0"
      ]
     },
     "execution_count": 455,
     "metadata": {},
     "output_type": "execute_result"
    }
   ],
   "source": [
    "#Example of using the function in finding total layoffs that of a industry\n",
    "data_industry_cnt(layoff,data_industry)"
   ]
  },
  {
   "cell_type": "code",
   "execution_count": 456,
   "metadata": {},
   "outputs": [],
   "source": [
    "#Put together 2 previous functions into a final function that show total number of layoffs for industry with specific keywords\n",
    "def industry_layoff(data, keywords):\n",
    "    industry_layoff = {}\n",
    "    for keyword in keywords:\n",
    "        data_industry = find_data(data.industry, keyword)\n",
    "        total_layoff = data_industry_cnt(data, data_industry)\n",
    "        industry_layoff[keyword] = total_layoff\n",
    "    return industry_layoff"
   ]
  },
  {
   "cell_type": "code",
   "execution_count": 465,
   "metadata": {},
   "outputs": [
    {
     "data": {
      "text/plain": [
       "{'health': 2953474.0,\n",
       " 'data': 1088122.0,\n",
       " 'insurance': 155446.0,\n",
       " 'car': 3108920.0,\n",
       " 'retail': 1088122.0,\n",
       " 'food': 621784.0,\n",
       " 'finance': 310892.0}"
      ]
     },
     "execution_count": 465,
     "metadata": {},
     "output_type": "execute_result"
    }
   ],
   "source": [
    "keywords = ['health','data','insurance','car','retail','food', 'finance']\n",
    "industries_layoff = industry_layoff(layoff, keywords)\n",
    "industries_layoff"
   ]
  },
  {
   "cell_type": "code",
   "execution_count": 466,
   "metadata": {},
   "outputs": [
    {
     "data": {
      "image/png": "[encoded data removed]",
      "text/plain": [
       "<Figure size 432x288 with 1 Axes>"
      ]
     },
     "metadata": {},
     "output_type": "display_data"
    }
   ],
   "source": [
    "# Convert dictionary to pandas Series\n",
    "s = pd.Series(industries_layoff).sort_values(ascending = False)\n",
    "\n",
    "# Create bar chart\n",
    "s.plot(kind ='bar')\n",
    "\n",
    "# Add labels and title\n",
    "plt.xlabel('Industry')\n",
    "plt.ylabel('Total Layoffs')\n",
    "plt.title('Layoff By Industries')\n",
    "\n",
    "# Show chart\n",
    "plt.show()"
   ]
  }
 ],
 "metadata": {
  "kernelspec": {
   "display_name": "Python 3",
   "language": "python",
   "name": "python3"
  },
  "language_info": {
   "codemirror_mode": {
    "name": "ipython",
    "version": 3
   },
   "file_extension": ".py",
   "mimetype": "text/x-python",
   "name": "python",
   "nbconvert_exporter": "python",
   "pygments_lexer": "ipython3",
   "version": "3.8.3"
  }
 },
 "nbformat": 4,
 "nbformat_minor": 4
}
